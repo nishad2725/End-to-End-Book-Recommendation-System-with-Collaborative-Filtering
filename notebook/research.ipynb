{
 "cells": [
  {
   "cell_type": "markdown",
   "id": "9ea7dff0",
   "metadata": {},
   "source": [
    "# Research Notebook\n",
    "\n",
    "This notebook is a starting point for exploratory analysis and experiments for the End-to-End Book Recommendation project. Add data loading, preprocessing, modeling, and evaluation steps here."
   ]
  },
  {
   "cell_type": "code",
   "execution_count": 1,
   "id": "bad1f5f5",
   "metadata": {},
   "outputs": [
    {
     "name": "stdout",
     "output_type": "stream",
     "text": [
      "Notebook initialized\n"
     ]
    }
   ],
   "source": [
    "# Import commonly used libraries\n",
    "import numpy as np\n",
    "import pandas as pd\n",
    "from sklearn.model_selection import train_test_split\n",
    "from sklearn.metrics import mean_squared_error\n",
    "\n",
    "print('Notebook initialized')"
   ]
  },
  {
   "cell_type": "code",
   "execution_count": null,
   "id": "17984258",
   "metadata": {},
   "outputs": [],
   "source": []
  }
 ],
 "metadata": {
  "kernelspec": {
   "display_name": ".venv",
   "language": "python",
   "name": "python3"
  },
  "language_info": {
   "codemirror_mode": {
    "name": "ipython",
    "version": 3
   },
   "file_extension": ".py",
   "mimetype": "text/x-python",
   "name": "python",
   "nbconvert_exporter": "python",
   "pygments_lexer": "ipython3",
   "version": "3.12.2"
  }
 },
 "nbformat": 4,
 "nbformat_minor": 5
}
