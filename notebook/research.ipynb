{
 "cells": [
  {
   "cell_type": "markdown",
   "id": "9ea7dff0",
   "metadata": {},
   "source": [
    "# Research Notebook\n",
    "\n",
    "This notebook is a starting point for exploratory analysis and experiments for the End-to-End Book Recommendation project. Add data loading, preprocessing, modeling, and evaluation steps here."
   ]
  },
  {
   "cell_type": "code",
   "execution_count": null,
   "id": "bad1f5f5",
   "metadata": {},
   "outputs": [
    {
     "ename": "",
     "evalue": "",
     "output_type": "error",
     "traceback": [
      "\u001b[1;31mRunning cells with '.venv (Python 3.12.2)' requires the ipykernel package.\n",
      "\u001b[1;31mInstall 'ipykernel' into the Python environment. \n",
      "\u001b[1;31mCommand: '/Users/nk/Downloads/End-to-End_Book_Recommender/End-to-End-Book-Recommendation-System-with-Collaborative-Filtering/.venv/bin/python -m pip install ipykernel -U --force-reinstall'"
     ]
    }
   ],
   "source": [
    "# Import commonly used libraries\n",
    "import numpy as np\n",
    "import pandas as pd\n",
    "from sklearn.model_selection import train_test_split\n",
    "from sklearn.metrics import mean_squared_error\n",
    "\n",
    "print('Notebook initialized')"
   ]
  },
  {
   "cell_type": "code",
   "execution_count": null,
   "id": "17984258",
   "metadata": {},
   "outputs": [],
   "source": []
  }
 ],
 "metadata": {
  "kernelspec": {
   "display_name": ".venv",
   "language": "python",
   "name": "python3"
  },
  "language_info": {
   "name": "python",
   "version": "3.12.2"
  }
 },
 "nbformat": 4,
 "nbformat_minor": 5
}
